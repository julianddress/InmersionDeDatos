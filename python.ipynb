{
 "cells": [
  {
   "cell_type": "code",
   "execution_count": 3,
   "metadata": {},
   "outputs": [],
   "source": [
    "import pandas as pd"
   ]
  },
  {
   "cell_type": "code",
   "execution_count": 4,
   "metadata": {},
   "outputs": [
    {
     "data": {
      "text/html": [
       "<div>\n",
       "<style scoped>\n",
       "    .dataframe tbody tr th:only-of-type {\n",
       "        vertical-align: middle;\n",
       "    }\n",
       "\n",
       "    .dataframe tbody tr th {\n",
       "        vertical-align: top;\n",
       "    }\n",
       "\n",
       "    .dataframe thead th {\n",
       "        text-align: right;\n",
       "    }\n",
       "</style>\n",
       "<table border=\"1\" class=\"dataframe\">\n",
       "  <thead>\n",
       "    <tr style=\"text-align: right;\">\n",
       "      <th></th>\n",
       "      <th>Tipo</th>\n",
       "      <th>Descripcion</th>\n",
       "      <th>Habitaciones</th>\n",
       "      <th>Baños</th>\n",
       "      <th>Área</th>\n",
       "      <th>Barrio</th>\n",
       "      <th>UPZ</th>\n",
       "      <th>Valor</th>\n",
       "    </tr>\n",
       "  </thead>\n",
       "  <tbody>\n",
       "    <tr>\n",
       "      <th>0</th>\n",
       "      <td>Apartamento</td>\n",
       "      <td>Apartamento en venta en Zona Noroccidental</td>\n",
       "      <td>3</td>\n",
       "      <td>2</td>\n",
       "      <td>70</td>\n",
       "      <td>Zona Noroccidental</td>\n",
       "      <td>CHAPINERO: Pardo Rubio + Chapinero</td>\n",
       "      <td>$ 360.000.000</td>\n",
       "    </tr>\n",
       "    <tr>\n",
       "      <th>1</th>\n",
       "      <td>Casa</td>\n",
       "      <td>Casa en venta en Castilla</td>\n",
       "      <td>4</td>\n",
       "      <td>3</td>\n",
       "      <td>170</td>\n",
       "      <td>Castilla</td>\n",
       "      <td>KENNEDY: Castilla + Bavaria</td>\n",
       "      <td>$ 670.000.000</td>\n",
       "    </tr>\n",
       "    <tr>\n",
       "      <th>2</th>\n",
       "      <td>Apartamento</td>\n",
       "      <td>Apartamento en venta en Chico Reservado</td>\n",
       "      <td>3</td>\n",
       "      <td>3</td>\n",
       "      <td>144</td>\n",
       "      <td>Chico Reservado</td>\n",
       "      <td>CHAPINERO: Chicó Lago + El Refugio</td>\n",
       "      <td>$ 1.120.000.000</td>\n",
       "    </tr>\n",
       "    <tr>\n",
       "      <th>3</th>\n",
       "      <td>Apartamento</td>\n",
       "      <td>Apartamento en venta en Usaquén</td>\n",
       "      <td>3</td>\n",
       "      <td>2</td>\n",
       "      <td>154</td>\n",
       "      <td>Usaquén</td>\n",
       "      <td>Usaquén</td>\n",
       "      <td>$ 890.000.000</td>\n",
       "    </tr>\n",
       "    <tr>\n",
       "      <th>4</th>\n",
       "      <td>Apartamento</td>\n",
       "      <td>Apartamento en venta en Bella Suiza</td>\n",
       "      <td>2</td>\n",
       "      <td>3</td>\n",
       "      <td>128</td>\n",
       "      <td>Bella Suiza</td>\n",
       "      <td>USAQUÉN: Country Club + Santa Bárbara</td>\n",
       "      <td>$ 970.000.000</td>\n",
       "    </tr>\n",
       "    <tr>\n",
       "      <th>...</th>\n",
       "      <td>...</td>\n",
       "      <td>...</td>\n",
       "      <td>...</td>\n",
       "      <td>...</td>\n",
       "      <td>...</td>\n",
       "      <td>...</td>\n",
       "      <td>...</td>\n",
       "      <td>...</td>\n",
       "    </tr>\n",
       "    <tr>\n",
       "      <th>9515</th>\n",
       "      <td>Apartamento</td>\n",
       "      <td>Apartamento en venta en Kennedy</td>\n",
       "      <td>3</td>\n",
       "      <td>2</td>\n",
       "      <td>70</td>\n",
       "      <td>Kennedy</td>\n",
       "      <td>Kennedy Central</td>\n",
       "      <td>$ 290.000.000</td>\n",
       "    </tr>\n",
       "    <tr>\n",
       "      <th>9516</th>\n",
       "      <td>Apartamento</td>\n",
       "      <td>Apartamento en venta en Parque Central Bavaria</td>\n",
       "      <td>2</td>\n",
       "      <td>2</td>\n",
       "      <td>100</td>\n",
       "      <td>Parque Central Bavaria</td>\n",
       "      <td>SANTA FE: Las Nieves + Sagrado Corazón</td>\n",
       "      <td>$ 670.000.000</td>\n",
       "    </tr>\n",
       "    <tr>\n",
       "      <th>9517</th>\n",
       "      <td>Local</td>\n",
       "      <td>Local en venta en Restrepo</td>\n",
       "      <td>8</td>\n",
       "      <td>6</td>\n",
       "      <td>383</td>\n",
       "      <td>Restrepo</td>\n",
       "      <td>Restrepo</td>\n",
       "      <td>$ 900.000.000</td>\n",
       "    </tr>\n",
       "    <tr>\n",
       "      <th>9518</th>\n",
       "      <td>Casa</td>\n",
       "      <td>Casa en venta en Engativa</td>\n",
       "      <td>3</td>\n",
       "      <td>2</td>\n",
       "      <td>183</td>\n",
       "      <td>Engativa</td>\n",
       "      <td>Engativá</td>\n",
       "      <td>$ 335.000.000</td>\n",
       "    </tr>\n",
       "    <tr>\n",
       "      <th>9519</th>\n",
       "      <td>Apartamento</td>\n",
       "      <td>Apartamento en venta en Tintala</td>\n",
       "      <td>3</td>\n",
       "      <td>1</td>\n",
       "      <td>52</td>\n",
       "      <td>Tintala</td>\n",
       "      <td>Tintala</td>\n",
       "      <td>$ 144.990.000</td>\n",
       "    </tr>\n",
       "  </tbody>\n",
       "</table>\n",
       "<p>9520 rows × 8 columns</p>\n",
       "</div>"
      ],
      "text/plain": [
       "             Tipo                                     Descripcion  \\\n",
       "0     Apartamento      Apartamento en venta en Zona Noroccidental   \n",
       "1            Casa                       Casa en venta en Castilla   \n",
       "2     Apartamento         Apartamento en venta en Chico Reservado   \n",
       "3     Apartamento                 Apartamento en venta en Usaquén   \n",
       "4     Apartamento             Apartamento en venta en Bella Suiza   \n",
       "...           ...                                             ...   \n",
       "9515  Apartamento                 Apartamento en venta en Kennedy   \n",
       "9516  Apartamento  Apartamento en venta en Parque Central Bavaria   \n",
       "9517        Local                      Local en venta en Restrepo   \n",
       "9518         Casa                       Casa en venta en Engativa   \n",
       "9519  Apartamento                 Apartamento en venta en Tintala   \n",
       "\n",
       "      Habitaciones  Baños  Área                  Barrio  \\\n",
       "0                3      2    70      Zona Noroccidental   \n",
       "1                4      3   170                Castilla   \n",
       "2                3      3   144         Chico Reservado   \n",
       "3                3      2   154                 Usaquén   \n",
       "4                2      3   128             Bella Suiza   \n",
       "...            ...    ...   ...                     ...   \n",
       "9515             3      2    70                 Kennedy   \n",
       "9516             2      2   100  Parque Central Bavaria   \n",
       "9517             8      6   383                Restrepo   \n",
       "9518             3      2   183                Engativa   \n",
       "9519             3      1    52                 Tintala   \n",
       "\n",
       "                                         UPZ            Valor  \n",
       "0         CHAPINERO: Pardo Rubio + Chapinero    $ 360.000.000  \n",
       "1                KENNEDY: Castilla + Bavaria    $ 670.000.000  \n",
       "2         CHAPINERO: Chicó Lago + El Refugio  $ 1.120.000.000  \n",
       "3                                    Usaquén    $ 890.000.000  \n",
       "4      USAQUÉN: Country Club + Santa Bárbara    $ 970.000.000  \n",
       "...                                      ...              ...  \n",
       "9515                         Kennedy Central    $ 290.000.000  \n",
       "9516  SANTA FE: Las Nieves + Sagrado Corazón    $ 670.000.000  \n",
       "9517                                Restrepo    $ 900.000.000  \n",
       "9518                                Engativá    $ 335.000.000  \n",
       "9519                                 Tintala    $ 144.990.000  \n",
       "\n",
       "[9520 rows x 8 columns]"
      ]
     },
     "execution_count": 4,
     "metadata": {},
     "output_type": "execute_result"
    }
   ],
   "source": [
    "data = \"inmuebles_bogota.csv\"\n",
    "df = pd.read_csv(data)\n",
    "df"
   ]
  },
  {
   "cell_type": "code",
   "execution_count": 5,
   "metadata": {},
   "outputs": [
    {
     "data": {
      "text/plain": [
       "(9520, 8)"
      ]
     },
     "execution_count": 5,
     "metadata": {},
     "output_type": "execute_result"
    }
   ],
   "source": [
    "# TAMAÑO DEL DATA SET\n",
    "df.shape"
   ]
  },
  {
   "cell_type": "code",
   "execution_count": 48,
   "metadata": {},
   "outputs": [
    {
     "data": {
      "text/plain": [
       "Index(['Tipo', 'Descripcion', 'Habitaciones', 'Banos', 'Area', 'Barrio', 'UPZ',\n",
       "       'Valor'],\n",
       "      dtype='object')"
      ]
     },
     "execution_count": 48,
     "metadata": {},
     "output_type": "execute_result"
    }
   ],
   "source": [
    "# DATOS DEL DATA SET EN UN DICCIONARIO\n",
    "df.columns"
   ]
  },
  {
   "cell_type": "code",
   "execution_count": 6,
   "metadata": {},
   "outputs": [
    {
     "data": {
      "text/html": [
       "<div>\n",
       "<style scoped>\n",
       "    .dataframe tbody tr th:only-of-type {\n",
       "        vertical-align: middle;\n",
       "    }\n",
       "\n",
       "    .dataframe tbody tr th {\n",
       "        vertical-align: top;\n",
       "    }\n",
       "\n",
       "    .dataframe thead th {\n",
       "        text-align: right;\n",
       "    }\n",
       "</style>\n",
       "<table border=\"1\" class=\"dataframe\">\n",
       "  <thead>\n",
       "    <tr style=\"text-align: right;\">\n",
       "      <th></th>\n",
       "      <th>Tipo</th>\n",
       "      <th>Descripcion</th>\n",
       "      <th>Habitaciones</th>\n",
       "      <th>Banos</th>\n",
       "      <th>Area</th>\n",
       "      <th>Barrio</th>\n",
       "      <th>UPZ</th>\n",
       "      <th>Valor</th>\n",
       "    </tr>\n",
       "  </thead>\n",
       "  <tbody>\n",
       "    <tr>\n",
       "      <th>7384</th>\n",
       "      <td>Apartamento</td>\n",
       "      <td>Apartamento en venta en Bosa</td>\n",
       "      <td>3</td>\n",
       "      <td>2</td>\n",
       "      <td>47</td>\n",
       "      <td>Bosa</td>\n",
       "      <td>Bosa Central</td>\n",
       "      <td>$ 126.000.000</td>\n",
       "    </tr>\n",
       "    <tr>\n",
       "      <th>6497</th>\n",
       "      <td>Apartamento</td>\n",
       "      <td>Apartamento en venta en El Contador</td>\n",
       "      <td>3</td>\n",
       "      <td>3</td>\n",
       "      <td>89</td>\n",
       "      <td>El Contador</td>\n",
       "      <td>Los Cedros</td>\n",
       "      <td>$ 460.000.000</td>\n",
       "    </tr>\n",
       "    <tr>\n",
       "      <th>7979</th>\n",
       "      <td>Apartamento</td>\n",
       "      <td>Apartamento en venta en Suba</td>\n",
       "      <td>3</td>\n",
       "      <td>2</td>\n",
       "      <td>61</td>\n",
       "      <td>Suba</td>\n",
       "      <td>Suba</td>\n",
       "      <td>$ 300.000.000</td>\n",
       "    </tr>\n",
       "    <tr>\n",
       "      <th>7381</th>\n",
       "      <td>Apartamento</td>\n",
       "      <td>Apartamento en venta en Santa Barbara</td>\n",
       "      <td>2</td>\n",
       "      <td>2</td>\n",
       "      <td>74</td>\n",
       "      <td>Santa Barbara</td>\n",
       "      <td>USAQUÉN: Country Club + Santa Bárbara</td>\n",
       "      <td>$ 496.000.000</td>\n",
       "    </tr>\n",
       "    <tr>\n",
       "      <th>7892</th>\n",
       "      <td>Apartamento</td>\n",
       "      <td>Apartamento en venta en Kennedy</td>\n",
       "      <td>3</td>\n",
       "      <td>1</td>\n",
       "      <td>47</td>\n",
       "      <td>Kennedy</td>\n",
       "      <td>Kennedy Central</td>\n",
       "      <td>$ 150.000.000</td>\n",
       "    </tr>\n",
       "    <tr>\n",
       "      <th>4160</th>\n",
       "      <td>Apartamento</td>\n",
       "      <td>Apartamento en venta en Cedritos</td>\n",
       "      <td>1</td>\n",
       "      <td>2</td>\n",
       "      <td>51</td>\n",
       "      <td>Cedritos</td>\n",
       "      <td>Usaquén</td>\n",
       "      <td>$ 373.000.000</td>\n",
       "    </tr>\n",
       "    <tr>\n",
       "      <th>4895</th>\n",
       "      <td>Apartamento</td>\n",
       "      <td>Apartamento en venta en Barrios Unidos</td>\n",
       "      <td>3</td>\n",
       "      <td>2</td>\n",
       "      <td>53</td>\n",
       "      <td>Barrios Unidos</td>\n",
       "      <td>Los Andes</td>\n",
       "      <td>$ 250.000.000</td>\n",
       "    </tr>\n",
       "    <tr>\n",
       "      <th>2158</th>\n",
       "      <td>Casa</td>\n",
       "      <td>Casa en venta en Normandia</td>\n",
       "      <td>5</td>\n",
       "      <td>3</td>\n",
       "      <td>232</td>\n",
       "      <td>Normandia</td>\n",
       "      <td>ENGATIVÁ: Santa Cecilia + Jardín  Botánico</td>\n",
       "      <td>$ 1.100.000.000</td>\n",
       "    </tr>\n",
       "    <tr>\n",
       "      <th>1241</th>\n",
       "      <td>Apartamento</td>\n",
       "      <td>Apartamento en venta en Kennedy</td>\n",
       "      <td>3</td>\n",
       "      <td>2</td>\n",
       "      <td>68</td>\n",
       "      <td>Kennedy</td>\n",
       "      <td>Kennedy Central</td>\n",
       "      <td>$ 296.000.000</td>\n",
       "    </tr>\n",
       "    <tr>\n",
       "      <th>6948</th>\n",
       "      <td>Apartamento</td>\n",
       "      <td>Apartamento en venta en Cedritos</td>\n",
       "      <td>3</td>\n",
       "      <td>2</td>\n",
       "      <td>71</td>\n",
       "      <td>Cedritos</td>\n",
       "      <td>Usaquén</td>\n",
       "      <td>$ 380.000.000</td>\n",
       "    </tr>\n",
       "  </tbody>\n",
       "</table>\n",
       "</div>"
      ],
      "text/plain": [
       "             Tipo                             Descripcion  Habitaciones  \\\n",
       "7384  Apartamento            Apartamento en venta en Bosa             3   \n",
       "6497  Apartamento     Apartamento en venta en El Contador             3   \n",
       "7979  Apartamento            Apartamento en venta en Suba             3   \n",
       "7381  Apartamento   Apartamento en venta en Santa Barbara             2   \n",
       "7892  Apartamento         Apartamento en venta en Kennedy             3   \n",
       "4160  Apartamento        Apartamento en venta en Cedritos             1   \n",
       "4895  Apartamento  Apartamento en venta en Barrios Unidos             3   \n",
       "2158         Casa              Casa en venta en Normandia             5   \n",
       "1241  Apartamento         Apartamento en venta en Kennedy             3   \n",
       "6948  Apartamento        Apartamento en venta en Cedritos             3   \n",
       "\n",
       "      Banos  Area          Barrio                                         UPZ  \\\n",
       "7384      2    47            Bosa                                Bosa Central   \n",
       "6497      3    89     El Contador                                  Los Cedros   \n",
       "7979      2    61            Suba                                        Suba   \n",
       "7381      2    74   Santa Barbara       USAQUÉN: Country Club + Santa Bárbara   \n",
       "7892      1    47         Kennedy                             Kennedy Central   \n",
       "4160      2    51        Cedritos                                     Usaquén   \n",
       "4895      2    53  Barrios Unidos                                   Los Andes   \n",
       "2158      3   232       Normandia  ENGATIVÁ: Santa Cecilia + Jardín  Botánico   \n",
       "1241      2    68         Kennedy                             Kennedy Central   \n",
       "6948      2    71        Cedritos                                     Usaquén   \n",
       "\n",
       "                Valor  \n",
       "7384    $ 126.000.000  \n",
       "6497    $ 460.000.000  \n",
       "7979    $ 300.000.000  \n",
       "7381    $ 496.000.000  \n",
       "7892    $ 150.000.000  \n",
       "4160    $ 373.000.000  \n",
       "4895    $ 250.000.000  \n",
       "2158  $ 1.100.000.000  \n",
       "1241    $ 296.000.000  \n",
       "6948    $ 380.000.000  "
      ]
     },
     "execution_count": 6,
     "metadata": {},
     "output_type": "execute_result"
    }
   ],
   "source": [
    "# RENOMBRAMOS LAS COLUMNAS CON CARACTERES ESPECIALES \n",
    "Columnas = { \"Baños\": \"Banos\", \"Área\": \"Area\" }\n",
    "df = df.rename(columns=Columnas)\n",
    "\n",
    "# MOSTRAR DATOS ALEATORIOS DEL DATA SET\n",
    "df.sample(10)"
   ]
  },
  {
   "cell_type": "code",
   "execution_count": 8,
   "metadata": {},
   "outputs": [
    {
     "name": "stdout",
     "output_type": "stream",
     "text": [
      "<class 'pandas.core.frame.DataFrame'>\n",
      "RangeIndex: 9520 entries, 0 to 9519\n",
      "Data columns (total 8 columns):\n",
      " #   Column        Non-Null Count  Dtype \n",
      "---  ------        --------------  ----- \n",
      " 0   Tipo          9520 non-null   object\n",
      " 1   Descripcion   9520 non-null   object\n",
      " 2   Habitaciones  9520 non-null   int64 \n",
      " 3   Banos         9520 non-null   int64 \n",
      " 4   Area          9520 non-null   int64 \n",
      " 5   Barrio        9520 non-null   object\n",
      " 6   UPZ           9478 non-null   object\n",
      " 7   Valor         9520 non-null   object\n",
      "dtypes: int64(3), object(5)\n",
      "memory usage: 595.1+ KB\n"
     ]
    }
   ],
   "source": [
    "# INFORMACION GENERAL DEL DATA FRAME\n",
    "df.info()"
   ]
  },
  {
   "cell_type": "code",
   "execution_count": 9,
   "metadata": {},
   "outputs": [
    {
     "data": {
      "text/plain": [
       "Tipo                                Apartamento\n",
       "Descripcion     Apartamento en venta en Kennedy\n",
       "Habitaciones                                  2\n",
       "Banos                                         1\n",
       "Area                                         42\n",
       "Barrio                                  Kennedy\n",
       "UPZ                             Kennedy Central\n",
       "Valor                             $ 116.100.000\n",
       "Name: 300, dtype: object"
      ]
     },
     "execution_count": 9,
     "metadata": {},
     "output_type": "execute_result"
    }
   ],
   "source": [
    "# VISUALIZAR UNA FILA\n",
    "df.iloc[300]"
   ]
  },
  {
   "cell_type": "code",
   "execution_count": 10,
   "metadata": {},
   "outputs": [
    {
     "data": {
      "text/html": [
       "<div>\n",
       "<style scoped>\n",
       "    .dataframe tbody tr th:only-of-type {\n",
       "        vertical-align: middle;\n",
       "    }\n",
       "\n",
       "    .dataframe tbody tr th {\n",
       "        vertical-align: top;\n",
       "    }\n",
       "\n",
       "    .dataframe thead th {\n",
       "        text-align: right;\n",
       "    }\n",
       "</style>\n",
       "<table border=\"1\" class=\"dataframe\">\n",
       "  <thead>\n",
       "    <tr style=\"text-align: right;\">\n",
       "      <th></th>\n",
       "      <th>Tipo</th>\n",
       "      <th>Descripcion</th>\n",
       "      <th>Habitaciones</th>\n",
       "      <th>Banos</th>\n",
       "      <th>Area</th>\n",
       "      <th>Barrio</th>\n",
       "      <th>UPZ</th>\n",
       "      <th>Valor</th>\n",
       "    </tr>\n",
       "  </thead>\n",
       "  <tbody>\n",
       "    <tr>\n",
       "      <th>300</th>\n",
       "      <td>Apartamento</td>\n",
       "      <td>Apartamento en venta en Kennedy</td>\n",
       "      <td>2</td>\n",
       "      <td>1</td>\n",
       "      <td>42</td>\n",
       "      <td>Kennedy</td>\n",
       "      <td>Kennedy Central</td>\n",
       "      <td>$ 116.100.000</td>\n",
       "    </tr>\n",
       "    <tr>\n",
       "      <th>301</th>\n",
       "      <td>Apartamento</td>\n",
       "      <td>Apartamento en venta en Chico Norte</td>\n",
       "      <td>2</td>\n",
       "      <td>2</td>\n",
       "      <td>95</td>\n",
       "      <td>Chico Norte</td>\n",
       "      <td>CHAPINERO: Chicó Lago + El Refugio</td>\n",
       "      <td>$ 980.000.000</td>\n",
       "    </tr>\n",
       "    <tr>\n",
       "      <th>302</th>\n",
       "      <td>Apartamento</td>\n",
       "      <td>Apartamento en venta en Kennedy</td>\n",
       "      <td>3</td>\n",
       "      <td>2</td>\n",
       "      <td>54</td>\n",
       "      <td>Kennedy</td>\n",
       "      <td>Kennedy Central</td>\n",
       "      <td>$ 237.000.000</td>\n",
       "    </tr>\n",
       "    <tr>\n",
       "      <th>303</th>\n",
       "      <td>Apartamento</td>\n",
       "      <td>Apartamento en venta en Kennedy</td>\n",
       "      <td>3</td>\n",
       "      <td>2</td>\n",
       "      <td>67</td>\n",
       "      <td>Kennedy</td>\n",
       "      <td>Kennedy Central</td>\n",
       "      <td>$ 320.000.000</td>\n",
       "    </tr>\n",
       "    <tr>\n",
       "      <th>304</th>\n",
       "      <td>Apartamento</td>\n",
       "      <td>Apartamento en venta en Cedritos</td>\n",
       "      <td>4</td>\n",
       "      <td>4</td>\n",
       "      <td>132</td>\n",
       "      <td>Cedritos</td>\n",
       "      <td>Usaquén</td>\n",
       "      <td>$ 530.000.000</td>\n",
       "    </tr>\n",
       "  </tbody>\n",
       "</table>\n",
       "</div>"
      ],
      "text/plain": [
       "            Tipo                          Descripcion  Habitaciones  Banos  \\\n",
       "300  Apartamento      Apartamento en venta en Kennedy             2      1   \n",
       "301  Apartamento  Apartamento en venta en Chico Norte             2      2   \n",
       "302  Apartamento      Apartamento en venta en Kennedy             3      2   \n",
       "303  Apartamento      Apartamento en venta en Kennedy             3      2   \n",
       "304  Apartamento     Apartamento en venta en Cedritos             4      4   \n",
       "\n",
       "     Area       Barrio                                 UPZ          Valor  \n",
       "300    42      Kennedy                     Kennedy Central  $ 116.100.000  \n",
       "301    95  Chico Norte  CHAPINERO: Chicó Lago + El Refugio  $ 980.000.000  \n",
       "302    54      Kennedy                     Kennedy Central  $ 237.000.000  \n",
       "303    67      Kennedy                     Kennedy Central  $ 320.000.000  \n",
       "304   132     Cedritos                             Usaquén  $ 530.000.000  "
      ]
     },
     "execution_count": 10,
     "metadata": {},
     "output_type": "execute_result"
    }
   ],
   "source": [
    "# ELEGIR UN RANGO DE REGISTROS CON SLIDE NOTATIONS O NOTACION POR TROZOS.\n",
    "df.iloc[300:305]"
   ]
  },
  {
   "cell_type": "code",
   "execution_count": 11,
   "metadata": {},
   "outputs": [
    {
     "data": {
      "text/plain": [
       "'$ 116.100.000'"
      ]
     },
     "execution_count": 11,
     "metadata": {},
     "output_type": "execute_result"
    }
   ],
   "source": [
    "df[\"Valor\"][300]"
   ]
  },
  {
   "cell_type": "code",
   "execution_count": 12,
   "metadata": {},
   "outputs": [
    {
     "data": {
      "text/plain": [
       "300    $ 116.100.000\n",
       "301    $ 980.000.000\n",
       "302    $ 237.000.000\n",
       "303    $ 320.000.000\n",
       "304    $ 530.000.000\n",
       "Name: Valor, dtype: object"
      ]
     },
     "execution_count": 12,
     "metadata": {},
     "output_type": "execute_result"
    }
   ],
   "source": [
    "df[\"Valor\"][300:305]"
   ]
  },
  {
   "cell_type": "code",
   "execution_count": 13,
   "metadata": {},
   "outputs": [
    {
     "data": {
      "text/plain": [
       "pandas.core.series.Series"
      ]
     },
     "execution_count": 13,
     "metadata": {},
     "output_type": "execute_result"
    }
   ],
   "source": [
    "type(df[\"Valor\"][300:305])"
   ]
  },
  {
   "cell_type": "code",
   "execution_count": 15,
   "metadata": {},
   "outputs": [
    {
     "data": {
      "text/plain": [
       "146.66470588235293"
      ]
     },
     "execution_count": 15,
     "metadata": {},
     "output_type": "execute_result"
    }
   ],
   "source": [
    "# PROMEDIO DE AREA DE UN DATO\n",
    "df.Area.mean()"
   ]
  },
  {
   "cell_type": "code",
   "execution_count": 16,
   "metadata": {},
   "outputs": [
    {
     "data": {
      "text/plain": [
       "225"
      ]
     },
     "execution_count": 16,
     "metadata": {},
     "output_type": "execute_result"
    }
   ],
   "source": [
    "sum((df.Barrio == \"Chico Reservado\"))"
   ]
  },
  {
   "cell_type": "code",
   "execution_count": 18,
   "metadata": {},
   "outputs": [
    {
     "data": {
      "text/plain": [
       "pandas.core.series.Series"
      ]
     },
     "execution_count": 18,
     "metadata": {},
     "output_type": "execute_result"
    }
   ],
   "source": [
    "type((df.Barrio == \"Chico Reservado\"))"
   ]
  },
  {
   "cell_type": "code",
   "execution_count": 19,
   "metadata": {},
   "outputs": [
    {
     "data": {
      "text/plain": [
       "pandas.core.series.Series"
      ]
     },
     "execution_count": 19,
     "metadata": {},
     "output_type": "execute_result"
    }
   ],
   "source": [
    "inmuebles_chico = (df.Barrio == \"Chico Reservado\")\n",
    "type(inmuebles_chico)"
   ]
  },
  {
   "cell_type": "code",
   "execution_count": 22,
   "metadata": {},
   "outputs": [
    {
     "data": {
      "text/html": [
       "<div>\n",
       "<style scoped>\n",
       "    .dataframe tbody tr th:only-of-type {\n",
       "        vertical-align: middle;\n",
       "    }\n",
       "\n",
       "    .dataframe tbody tr th {\n",
       "        vertical-align: top;\n",
       "    }\n",
       "\n",
       "    .dataframe thead th {\n",
       "        text-align: right;\n",
       "    }\n",
       "</style>\n",
       "<table border=\"1\" class=\"dataframe\">\n",
       "  <thead>\n",
       "    <tr style=\"text-align: right;\">\n",
       "      <th></th>\n",
       "      <th>Tipo</th>\n",
       "      <th>Descripcion</th>\n",
       "      <th>Habitaciones</th>\n",
       "      <th>Banos</th>\n",
       "      <th>Area</th>\n",
       "      <th>Barrio</th>\n",
       "      <th>UPZ</th>\n",
       "      <th>Valor</th>\n",
       "    </tr>\n",
       "  </thead>\n",
       "  <tbody>\n",
       "    <tr>\n",
       "      <th>2</th>\n",
       "      <td>Apartamento</td>\n",
       "      <td>Apartamento en venta en Chico Reservado</td>\n",
       "      <td>3</td>\n",
       "      <td>3</td>\n",
       "      <td>144</td>\n",
       "      <td>Chico Reservado</td>\n",
       "      <td>CHAPINERO: Chicó Lago + El Refugio</td>\n",
       "      <td>$ 1.120.000.000</td>\n",
       "    </tr>\n",
       "    <tr>\n",
       "      <th>39</th>\n",
       "      <td>Apartamento</td>\n",
       "      <td>Apartamento en venta en Chico Reservado</td>\n",
       "      <td>1</td>\n",
       "      <td>1</td>\n",
       "      <td>64</td>\n",
       "      <td>Chico Reservado</td>\n",
       "      <td>CHAPINERO: Chicó Lago + El Refugio</td>\n",
       "      <td>$ 495.000.000</td>\n",
       "    </tr>\n",
       "    <tr>\n",
       "      <th>72</th>\n",
       "      <td>Apartamento</td>\n",
       "      <td>Apartamento en venta en Chico Reservado</td>\n",
       "      <td>1</td>\n",
       "      <td>1</td>\n",
       "      <td>64</td>\n",
       "      <td>Chico Reservado</td>\n",
       "      <td>CHAPINERO: Chicó Lago + El Refugio</td>\n",
       "      <td>$ 495.000.000</td>\n",
       "    </tr>\n",
       "    <tr>\n",
       "      <th>126</th>\n",
       "      <td>Apartamento</td>\n",
       "      <td>Apartamento en venta en Chico Reservado</td>\n",
       "      <td>3</td>\n",
       "      <td>4</td>\n",
       "      <td>150</td>\n",
       "      <td>Chico Reservado</td>\n",
       "      <td>CHAPINERO: Chicó Lago + El Refugio</td>\n",
       "      <td>$ 1.300.000.000</td>\n",
       "    </tr>\n",
       "    <tr>\n",
       "      <th>143</th>\n",
       "      <td>Apartamento</td>\n",
       "      <td>Apartamento en venta en Chico Reservado</td>\n",
       "      <td>2</td>\n",
       "      <td>4</td>\n",
       "      <td>104</td>\n",
       "      <td>Chico Reservado</td>\n",
       "      <td>CHAPINERO: Chicó Lago + El Refugio</td>\n",
       "      <td>$ 1.100.000.000</td>\n",
       "    </tr>\n",
       "    <tr>\n",
       "      <th>...</th>\n",
       "      <td>...</td>\n",
       "      <td>...</td>\n",
       "      <td>...</td>\n",
       "      <td>...</td>\n",
       "      <td>...</td>\n",
       "      <td>...</td>\n",
       "      <td>...</td>\n",
       "      <td>...</td>\n",
       "    </tr>\n",
       "    <tr>\n",
       "      <th>9299</th>\n",
       "      <td>Apartamento</td>\n",
       "      <td>Apartamento en venta en Chico Reservado</td>\n",
       "      <td>3</td>\n",
       "      <td>3</td>\n",
       "      <td>148</td>\n",
       "      <td>Chico Reservado</td>\n",
       "      <td>CHAPINERO: Chicó Lago + El Refugio</td>\n",
       "      <td>$ 780.000.000</td>\n",
       "    </tr>\n",
       "    <tr>\n",
       "      <th>9335</th>\n",
       "      <td>Apartamento</td>\n",
       "      <td>Apartamento en venta en Chico Reservado</td>\n",
       "      <td>3</td>\n",
       "      <td>3</td>\n",
       "      <td>176</td>\n",
       "      <td>Chico Reservado</td>\n",
       "      <td>CHAPINERO: Chicó Lago + El Refugio</td>\n",
       "      <td>$ 850.000.000</td>\n",
       "    </tr>\n",
       "    <tr>\n",
       "      <th>9341</th>\n",
       "      <td>Apartamento</td>\n",
       "      <td>Apartamento en venta en Chico Reservado</td>\n",
       "      <td>2</td>\n",
       "      <td>3</td>\n",
       "      <td>118</td>\n",
       "      <td>Chico Reservado</td>\n",
       "      <td>CHAPINERO: Chicó Lago + El Refugio</td>\n",
       "      <td>$ 700.000.000</td>\n",
       "    </tr>\n",
       "    <tr>\n",
       "      <th>9472</th>\n",
       "      <td>Apartamento</td>\n",
       "      <td>Apartamento en venta en Chico Reservado</td>\n",
       "      <td>3</td>\n",
       "      <td>1</td>\n",
       "      <td>49</td>\n",
       "      <td>Chico Reservado</td>\n",
       "      <td>CHAPINERO: Chicó Lago + El Refugio</td>\n",
       "      <td>$ 200.000.000</td>\n",
       "    </tr>\n",
       "    <tr>\n",
       "      <th>9506</th>\n",
       "      <td>Apartamento</td>\n",
       "      <td>Apartamento en venta en Chico Reservado</td>\n",
       "      <td>3</td>\n",
       "      <td>4</td>\n",
       "      <td>390</td>\n",
       "      <td>Chico Reservado</td>\n",
       "      <td>CHAPINERO: Chicó Lago + El Refugio</td>\n",
       "      <td>$ 3.200.000.000</td>\n",
       "    </tr>\n",
       "  </tbody>\n",
       "</table>\n",
       "<p>225 rows × 8 columns</p>\n",
       "</div>"
      ],
      "text/plain": [
       "             Tipo                              Descripcion  Habitaciones  \\\n",
       "2     Apartamento  Apartamento en venta en Chico Reservado             3   \n",
       "39    Apartamento  Apartamento en venta en Chico Reservado             1   \n",
       "72    Apartamento  Apartamento en venta en Chico Reservado             1   \n",
       "126   Apartamento  Apartamento en venta en Chico Reservado             3   \n",
       "143   Apartamento  Apartamento en venta en Chico Reservado             2   \n",
       "...           ...                                      ...           ...   \n",
       "9299  Apartamento  Apartamento en venta en Chico Reservado             3   \n",
       "9335  Apartamento  Apartamento en venta en Chico Reservado             3   \n",
       "9341  Apartamento  Apartamento en venta en Chico Reservado             2   \n",
       "9472  Apartamento  Apartamento en venta en Chico Reservado             3   \n",
       "9506  Apartamento  Apartamento en venta en Chico Reservado             3   \n",
       "\n",
       "      Banos  Area           Barrio                                 UPZ  \\\n",
       "2         3   144  Chico Reservado  CHAPINERO: Chicó Lago + El Refugio   \n",
       "39        1    64  Chico Reservado  CHAPINERO: Chicó Lago + El Refugio   \n",
       "72        1    64  Chico Reservado  CHAPINERO: Chicó Lago + El Refugio   \n",
       "126       4   150  Chico Reservado  CHAPINERO: Chicó Lago + El Refugio   \n",
       "143       4   104  Chico Reservado  CHAPINERO: Chicó Lago + El Refugio   \n",
       "...     ...   ...              ...                                 ...   \n",
       "9299      3   148  Chico Reservado  CHAPINERO: Chicó Lago + El Refugio   \n",
       "9335      3   176  Chico Reservado  CHAPINERO: Chicó Lago + El Refugio   \n",
       "9341      3   118  Chico Reservado  CHAPINERO: Chicó Lago + El Refugio   \n",
       "9472      1    49  Chico Reservado  CHAPINERO: Chicó Lago + El Refugio   \n",
       "9506      4   390  Chico Reservado  CHAPINERO: Chicó Lago + El Refugio   \n",
       "\n",
       "                Valor  \n",
       "2     $ 1.120.000.000  \n",
       "39      $ 495.000.000  \n",
       "72      $ 495.000.000  \n",
       "126   $ 1.300.000.000  \n",
       "143   $ 1.100.000.000  \n",
       "...               ...  \n",
       "9299    $ 780.000.000  \n",
       "9335    $ 850.000.000  \n",
       "9341    $ 700.000.000  \n",
       "9472    $ 200.000.000  \n",
       "9506  $ 3.200.000.000  \n",
       "\n",
       "[225 rows x 8 columns]"
      ]
     },
     "execution_count": 22,
     "metadata": {},
     "output_type": "execute_result"
    }
   ],
   "source": [
    "chico_reservado = df[inmuebles_chico]\n",
    "chico_reservado"
   ]
  },
  {
   "cell_type": "code",
   "execution_count": 23,
   "metadata": {},
   "outputs": [
    {
     "data": {
      "text/plain": [
       "142.78666666666666"
      ]
     },
     "execution_count": 23,
     "metadata": {},
     "output_type": "execute_result"
    }
   ],
   "source": [
    "# PROMEDIO DE DATOS CON EL VALOR 'Chico Reservado'\n",
    "chico_reservado.Area.mean()"
   ]
  },
  {
   "cell_type": "code",
   "execution_count": 25,
   "metadata": {},
   "outputs": [
    {
     "data": {
      "text/plain": [
       "149"
      ]
     },
     "execution_count": 25,
     "metadata": {},
     "output_type": "execute_result"
    }
   ],
   "source": [
    "# TAMAÑO DE LOS DATOS\n",
    "len(df.Barrio.value_counts())"
   ]
  },
  {
   "cell_type": "code",
   "execution_count": 26,
   "metadata": {},
   "outputs": [
    {
     "data": {
      "text/plain": [
       "Barrio\n",
       "Usaquén               1105\n",
       "Zona Noroccidental     877\n",
       "Bosa                   589\n",
       "Kennedy                589\n",
       "Cedritos               554\n",
       "                      ... \n",
       "Colinas De Suba          1\n",
       "La Estanzuela            1\n",
       "Roma                     1\n",
       "Alameda                  1\n",
       "Prado Veraniego          1\n",
       "Name: count, Length: 149, dtype: int64"
      ]
     },
     "execution_count": 26,
     "metadata": {},
     "output_type": "execute_result"
    }
   ],
   "source": [
    "# VALORES DE CADA BARRIO\n",
    "df.Barrio.value_counts()"
   ]
  },
  {
   "cell_type": "code",
   "execution_count": 32,
   "metadata": {},
   "outputs": [
    {
     "data": {
      "text/plain": [
       "<Axes: xlabel='Barrio'>"
      ]
     },
     "execution_count": 32,
     "metadata": {},
     "output_type": "execute_result"
    },
    {
     "data": {
      "image/png": "[encoded data removed]",
      "text/plain": [
       "<Figure size 640x480 with 1 Axes>"
      ]
     },
     "metadata": {},
     "output_type": "display_data"
    }
   ],
   "source": [
    "inmuebles_Barrio = df.Barrio.value_counts()\n",
    "inmuebles_Barrio.head(10).plot.bar()"
   ]
  },
  {
   "cell_type": "markdown",
   "metadata": {},
   "source": [
    "# DESAFIO"
   ]
  },
  {
   "cell_type": "markdown",
   "metadata": {},
   "source": [
    "1. CALCULAR EL PROMEDIO DE AREA DE TODOS LOS INMUEBLES EN EL DATASET. GRAFICAR LOS 10 PRIMEROS."
   ]
  },
  {
   "cell_type": "markdown",
   "metadata": {},
   "source": [
    "2. CONSULTAR: CONTEO, MEDIANA, VALORES MINIMOS Y MAXIMOS."
   ]
  },
  {
   "cell_type": "code",
   "execution_count": 50,
   "metadata": {},
   "outputs": [
    {
     "ename": "TypeError",
     "evalue": "'Series' object cannot be interpreted as an integer",
     "output_type": "error",
     "traceback": [
      "\u001b[1;31m---------------------------------------------------------------------------\u001b[0m",
      "\u001b[1;31mTypeError\u001b[0m                                 Traceback (most recent call last)",
      "\u001b[1;32mc:\\Users\\andre\\OneDrive\\PYTHON_PANDAS\\python.ipynb Cell 24\u001b[0m line \u001b[0;36m7\n\u001b[0;32m      <a href='vscode-notebook-cell:/c%3A/Users/andre/OneDrive/PYTHON_PANDAS/python.ipynb#X41sZmlsZQ%3D%3D?line=3'>4</a>\u001b[0m barrio \u001b[39m=\u001b[39m \u001b[39m'\u001b[39m\u001b[39m'\u001b[39m\n\u001b[0;32m      <a href='vscode-notebook-cell:/c%3A/Users/andre/OneDrive/PYTHON_PANDAS/python.ipynb#X41sZmlsZQ%3D%3D?line=4'>5</a>\u001b[0m area \u001b[39m=\u001b[39m \u001b[39m0\u001b[39m\n\u001b[1;32m----> <a href='vscode-notebook-cell:/c%3A/Users/andre/OneDrive/PYTHON_PANDAS/python.ipynb#X41sZmlsZQ%3D%3D?line=6'>7</a>\u001b[0m \u001b[39mfor\u001b[39;00m i \u001b[39min\u001b[39;00m \u001b[39mrange\u001b[39;49m(barrios_name):\n\u001b[0;32m      <a href='vscode-notebook-cell:/c%3A/Users/andre/OneDrive/PYTHON_PANDAS/python.ipynb#X41sZmlsZQ%3D%3D?line=7'>8</a>\u001b[0m     \u001b[39mfor\u001b[39;00m j \u001b[39min\u001b[39;00m \u001b[39mrange\u001b[39m(barrios_area):\n\u001b[0;32m      <a href='vscode-notebook-cell:/c%3A/Users/andre/OneDrive/PYTHON_PANDAS/python.ipynb#X41sZmlsZQ%3D%3D?line=8'>9</a>\u001b[0m         \u001b[39mif\u001b[39;00m barrios_name[i] \u001b[39m==\u001b[39m barrios_area[j]:\n",
      "\u001b[1;31mTypeError\u001b[0m: 'Series' object cannot be interpreted as an integer"
     ]
    }
   ],
   "source": [
    "barrios_name = df.Barrio\n",
    "barrios_area = df.Area\n",
    "\n",
    "barrio = ''\n",
    "area = 0\n",
    "\n",
    "for i in range(barrios_name):\n",
    "    for j in range(barrios_area):\n",
    "        if barrios_name[i] == barrios_area[j]:\n",
    "            i = 0\n",
    "            cont = cont + barrios_area[j]\n",
    "            barrio = barrios_name[i] + cont\n",
    "        else:\n",
    "            i = i + 1\n",
    "\n",
    "print(barrio)\n"
   ]
  }
 ],
 "metadata": {
  "kernelspec": {
   "display_name": "Python 3",
   "language": "python",
   "name": "python3"
  },
  "language_info": {
   "codemirror_mode": {
    "name": "ipython",
    "version": 3
   },
   "file_extension": ".py",
   "mimetype": "text/x-python",
   "name": "python",
   "nbconvert_exporter": "python",
   "pygments_lexer": "ipython3",
   "version": "3.11.5"
  },
  "orig_nbformat": 4
 },
 "nbformat": 4,
 "nbformat_minor": 2
}
