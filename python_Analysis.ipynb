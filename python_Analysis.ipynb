{
 "cells": [
  {
   "cell_type": "markdown",
   "metadata": {},
   "source": [
    "Vamos a traer datos estadísticos de la ciudad de Bogotá, directamente del DANE y vamos a ver como estos datos nos ayudarían en inclusión de nuevas variables para el cálculo del precio de los inmuebles en la ciudad de Bogotá.\n",
    "\n",
    "Encuesta Multiproposito de Bogotá para obtener información socio-económica y de entorno urbano de los habitantes de Bogotá para la formulación, seguimiento y evaluación de las políticas distritales.\n",
    "\n",
    "https://microdatos.dane.gov.co/index.php/catalog/743"
   ]
  },
  {
   "cell_type": "code",
   "execution_count": 29,
   "metadata": {},
   "outputs": [],
   "source": [
    "import pandas as pd\n",
    "import matplotlib.pyplot as mlt\n",
    "import seaborn as sns"
   ]
  },
  {
   "cell_type": "code",
   "execution_count": 41,
   "metadata": {},
   "outputs": [
    {
     "data": {
      "text/html": [
       "<div>\n",
       "<style scoped>\n",
       "    .dataframe tbody tr th:only-of-type {\n",
       "        vertical-align: middle;\n",
       "    }\n",
       "\n",
       "    .dataframe tbody tr th {\n",
       "        vertical-align: top;\n",
       "    }\n",
       "\n",
       "    .dataframe thead th {\n",
       "        text-align: right;\n",
       "    }\n",
       "</style>\n",
       "<table border=\"1\" class=\"dataframe\">\n",
       "  <thead>\n",
       "    <tr style=\"text-align: right;\">\n",
       "      <th></th>\n",
       "      <th>DIRECTORIO</th>\n",
       "      <th>DPTO</th>\n",
       "      <th>MPIO</th>\n",
       "      <th>CLASE</th>\n",
       "      <th>COD_LOCALIDAD</th>\n",
       "      <th>NOMBRE_LOCALIDAD</th>\n",
       "      <th>COD_UPZ_GRUPO</th>\n",
       "      <th>NOMBRE_UPZ_GRUPO</th>\n",
       "      <th>ESTRATO2021</th>\n",
       "      <th>NOMBRE_ESTRATO</th>\n",
       "      <th>FEX_C</th>\n",
       "    </tr>\n",
       "  </thead>\n",
       "  <tbody>\n",
       "    <tr>\n",
       "      <th>0</th>\n",
       "      <td>3004346.0</td>\n",
       "      <td>11</td>\n",
       "      <td>11001</td>\n",
       "      <td>1</td>\n",
       "      <td>3.0</td>\n",
       "      <td>Santa Fe</td>\n",
       "      <td>814.0</td>\n",
       "      <td>SANTA FE: Las Nieves + Sagrado Corazón</td>\n",
       "      <td>11001187</td>\n",
       "      <td>SANTA FE: Las Nieves + Sagrado Corazón</td>\n",
       "      <td>13,2266692027239</td>\n",
       "    </tr>\n",
       "    <tr>\n",
       "      <th>1</th>\n",
       "      <td>3004347.0</td>\n",
       "      <td>11</td>\n",
       "      <td>11001</td>\n",
       "      <td>1</td>\n",
       "      <td>14.0</td>\n",
       "      <td>Los Mártires</td>\n",
       "      <td>37.0</td>\n",
       "      <td>Santa Isabel</td>\n",
       "      <td>11001162</td>\n",
       "      <td>Santa Isabel</td>\n",
       "      <td>17,8555889419101</td>\n",
       "    </tr>\n",
       "    <tr>\n",
       "      <th>2</th>\n",
       "      <td>3004348.0</td>\n",
       "      <td>11</td>\n",
       "      <td>11001</td>\n",
       "      <td>1</td>\n",
       "      <td>3.0</td>\n",
       "      <td>Santa Fe</td>\n",
       "      <td>814.0</td>\n",
       "      <td>SANTA FE: Las Nieves + Sagrado Corazón</td>\n",
       "      <td>11001187</td>\n",
       "      <td>SANTA FE: Las Nieves + Sagrado Corazón</td>\n",
       "      <td>10,0286103658331</td>\n",
       "    </tr>\n",
       "    <tr>\n",
       "      <th>3</th>\n",
       "      <td>3004349.0</td>\n",
       "      <td>11</td>\n",
       "      <td>11001</td>\n",
       "      <td>1</td>\n",
       "      <td>1.0</td>\n",
       "      <td>Usaquén</td>\n",
       "      <td>803.0</td>\n",
       "      <td>USAQUÉN: Country Club + Santa Bárbara</td>\n",
       "      <td>11001176</td>\n",
       "      <td>USAQUÉN: Country Club + Santa Bárbara</td>\n",
       "      <td>28,6502122142802</td>\n",
       "    </tr>\n",
       "    <tr>\n",
       "      <th>4</th>\n",
       "      <td>3004350.0</td>\n",
       "      <td>11</td>\n",
       "      <td>11001</td>\n",
       "      <td>1</td>\n",
       "      <td>1.0</td>\n",
       "      <td>Usaquén</td>\n",
       "      <td>803.0</td>\n",
       "      <td>USAQUÉN: Country Club + Santa Bárbara</td>\n",
       "      <td>11001176</td>\n",
       "      <td>USAQUÉN: Country Club + Santa Bárbara</td>\n",
       "      <td>24,4684068319009</td>\n",
       "    </tr>\n",
       "  </tbody>\n",
       "</table>\n",
       "</div>"
      ],
      "text/plain": [
       "   DIRECTORIO  DPTO   MPIO  CLASE  COD_LOCALIDAD NOMBRE_LOCALIDAD  \\\n",
       "0   3004346.0    11  11001      1            3.0         Santa Fe   \n",
       "1   3004347.0    11  11001      1           14.0     Los Mártires   \n",
       "2   3004348.0    11  11001      1            3.0         Santa Fe   \n",
       "3   3004349.0    11  11001      1            1.0          Usaquén   \n",
       "4   3004350.0    11  11001      1            1.0          Usaquén   \n",
       "\n",
       "   COD_UPZ_GRUPO                        NOMBRE_UPZ_GRUPO  ESTRATO2021  \\\n",
       "0          814.0  SANTA FE: Las Nieves + Sagrado Corazón     11001187   \n",
       "1           37.0                            Santa Isabel     11001162   \n",
       "2          814.0  SANTA FE: Las Nieves + Sagrado Corazón     11001187   \n",
       "3          803.0   USAQUÉN: Country Club + Santa Bárbara     11001176   \n",
       "4          803.0   USAQUÉN: Country Club + Santa Bárbara     11001176   \n",
       "\n",
       "                           NOMBRE_ESTRATO             FEX_C  \n",
       "0  SANTA FE: Las Nieves + Sagrado Corazón  13,2266692027239  \n",
       "1                            Santa Isabel  17,8555889419101  \n",
       "2  SANTA FE: Las Nieves + Sagrado Corazón  10,0286103658331  \n",
       "3   USAQUÉN: Country Club + Santa Bárbara  28,6502122142802  \n",
       "4   USAQUÉN: Country Club + Santa Bárbara  24,4684068319009  "
      ]
     },
     "execution_count": 41,
     "metadata": {},
     "output_type": "execute_result"
    }
   ],
   "source": [
    "datos_raw = pd.read_csv('./Documentation/Data/archivos-dane/Identificación (Capítulo A).csv', sep = ';',encoding='latin-1')\n",
    "datos_raw.head()"
   ]
  },
  {
   "cell_type": "code",
   "execution_count": 44,
   "metadata": {},
   "outputs": [
    {
     "data": {
      "text/plain": [
       "(106467, 11)"
      ]
     },
     "execution_count": 44,
     "metadata": {},
     "output_type": "execute_result"
    }
   ],
   "source": [
    "datos_raw.shape"
   ]
  },
  {
   "cell_type": "code",
   "execution_count": 45,
   "metadata": {},
   "outputs": [
    {
     "data": {
      "text/plain": [
       "(86504, 11)"
      ]
     },
     "execution_count": 45,
     "metadata": {},
     "output_type": "execute_result"
    }
   ],
   "source": [
    "datos_raw = datos_raw.loc[datos_raw.MPIO == 11001]\n",
    "datos_raw.shape"
   ]
  },
  {
   "cell_type": "code",
   "execution_count": 33,
   "metadata": {},
   "outputs": [
    {
     "name": "stderr",
     "output_type": "stream",
     "text": [
      "C:\\Users\\andre\\AppData\\Local\\Temp\\ipykernel_4964\\4178523720.py:2: DtypeWarning: Columns (4,25,30,47) have mixed types. Specify dtype option on import or set low_memory=False.\n",
      "  datos_c = pd.read_csv('./Documentation/Data/archivos-dane/CondicionesHabitacionalesDelHogar(Capítulo C).csv',sep=';',encoding='latin-1')\n",
      "C:\\Users\\andre\\AppData\\Local\\Temp\\ipykernel_4964\\4178523720.py:3: DtypeWarning: Columns (66) have mixed types. Specify dtype option on import or set low_memory=False.\n",
      "  datos_e = pd.read_csv('./Documentation/Data/archivos-dane/ComposiciónDelHogaryDemografía(Capítulo E).csv',sep=';',encoding='latin-1')\n",
      "C:\\Users\\andre\\AppData\\Local\\Temp\\ipykernel_4964\\4178523720.py:4: DtypeWarning: Columns (81) have mixed types. Specify dtype option on import or set low_memory=False.\n",
      "  datos_h = pd.read_csv('./Documentation/Data/archivos-dane/Educación(Capítulo H).csv',sep=';',encoding='latin-1')\n",
      "C:\\Users\\andre\\AppData\\Local\\Temp\\ipykernel_4964\\4178523720.py:5: DtypeWarning: Columns (114,117,122,126,164,166,168) have mixed types. Specify dtype option on import or set low_memory=False.\n",
      "  datos_l = pd.read_csv('./Documentation/Data/archivos-dane/PercepciónSobreLasCondicionesDeVidayElDesempeñoInstitucional(Capítulo L).csv',sep=';',encoding='latin-1')\n",
      "C:\\Users\\andre\\AppData\\Local\\Temp\\ipykernel_4964\\4178523720.py:6: DtypeWarning: Columns (27,58,60,62,64,66,104,114,120,124,126,129,131,133) have mixed types. Specify dtype option on import or set low_memory=False.\n",
      "  datos_k = pd.read_csv('./Documentation/Data/archivos-dane/FuerzaDeTrabajo(Capítulo K).csv',sep=';',encoding='latin-1')\n"
     ]
    }
   ],
   "source": [
    "datos_b = pd.read_csv('./Documentation/Data/archivos-dane/DatosViviendayEntorno(Capítulo B).csv',sep=';',encoding='latin-1')\n",
    "datos_c = pd.read_csv('./Documentation/Data/archivos-dane/CondicionesHabitacionalesDelHogar(Capítulo C).csv',sep=';',encoding='latin-1')\n",
    "datos_e = pd.read_csv('./Documentation/Data/archivos-dane/ComposiciónDelHogaryDemografía(Capítulo E).csv',sep=';',encoding='latin-1')\n",
    "datos_h = pd.read_csv('./Documentation/Data/archivos-dane/Educación(Capítulo H).csv',sep=';',encoding='latin-1')\n",
    "datos_l = pd.read_csv('./Documentation/Data/archivos-dane/PercepciónSobreLasCondicionesDeVidayElDesempeñoInstitucional(Capítulo L).csv',sep=';',encoding='latin-1')\n",
    "datos_k = pd.read_csv('./Documentation/Data/archivos-dane/FuerzaDeTrabajo(Capítulo K).csv',sep=';',encoding='latin-1')"
   ]
  },
  {
   "cell_type": "code",
   "execution_count": 46,
   "metadata": {},
   "outputs": [
    {
     "data": {
      "text/plain": [
       "(86504, 73)"
      ]
     },
     "execution_count": 46,
     "metadata": {},
     "output_type": "execute_result"
    }
   ],
   "source": [
    "\n",
    "datos_dane = pd.merge(datos_raw,datos_b,on='DIRECTORIO', how='left')\n",
    "datos_dane.shape"
   ]
  },
  {
   "cell_type": "code",
   "execution_count": 47,
   "metadata": {},
   "outputs": [
    {
     "data": {
      "text/plain": [
       "(87061, 214)"
      ]
     },
     "execution_count": 47,
     "metadata": {},
     "output_type": "execute_result"
    }
   ],
   "source": [
    "datos_dane = pd.merge(datos_dane,datos_c,on='DIRECTORIO', how='left')\n",
    "datos_dane.shape"
   ]
  },
  {
   "cell_type": "code",
   "execution_count": 37,
   "metadata": {},
   "outputs": [
    {
     "ename": "MergeError",
     "evalue": "Passing 'suffixes' which cause duplicate columns {'FEX_C_x'} is not allowed.",
     "output_type": "error",
     "traceback": [
      "\u001b[1;31m---------------------------------------------------------------------------\u001b[0m",
      "\u001b[1;31mMergeError\u001b[0m                                Traceback (most recent call last)",
      "\u001b[1;32mc:\\Users\\andre\\OneDrive\\PYTHON_PANDAS\\python_Analysis.ipynb Cell 9\u001b[0m line \u001b[0;36m1\n\u001b[1;32m----> <a href='vscode-notebook-cell:/c%3A/Users/andre/OneDrive/PYTHON_PANDAS/python_Analysis.ipynb#X10sZmlsZQ%3D%3D?line=0'>1</a>\u001b[0m datos_dane \u001b[39m=\u001b[39m pd\u001b[39m.\u001b[39;49mmerge(datos_dane,datos_e,on\u001b[39m=\u001b[39;49m\u001b[39m'\u001b[39;49m\u001b[39mDIRECTORIO\u001b[39;49m\u001b[39m'\u001b[39;49m, how\u001b[39m=\u001b[39;49m\u001b[39m'\u001b[39;49m\u001b[39mleft\u001b[39;49m\u001b[39m'\u001b[39;49m)\n\u001b[0;32m      <a href='vscode-notebook-cell:/c%3A/Users/andre/OneDrive/PYTHON_PANDAS/python_Analysis.ipynb#X10sZmlsZQ%3D%3D?line=1'>2</a>\u001b[0m datos_dane\u001b[39m.\u001b[39mshape\n",
      "File \u001b[1;32mc:\\Users\\andre\\AppData\\Local\\Programs\\Python\\Python311\\Lib\\site-packages\\pandas\\core\\reshape\\merge.py:183\u001b[0m, in \u001b[0;36mmerge\u001b[1;34m(left, right, how, on, left_on, right_on, left_index, right_index, sort, suffixes, copy, indicator, validate)\u001b[0m\n\u001b[0;32m    168\u001b[0m \u001b[39melse\u001b[39;00m:\n\u001b[0;32m    169\u001b[0m     op \u001b[39m=\u001b[39m _MergeOperation(\n\u001b[0;32m    170\u001b[0m         left_df,\n\u001b[0;32m    171\u001b[0m         right_df,\n\u001b[1;32m   (...)\u001b[0m\n\u001b[0;32m    181\u001b[0m         validate\u001b[39m=\u001b[39mvalidate,\n\u001b[0;32m    182\u001b[0m     )\n\u001b[1;32m--> 183\u001b[0m     \u001b[39mreturn\u001b[39;00m op\u001b[39m.\u001b[39;49mget_result(copy\u001b[39m=\u001b[39;49mcopy)\n",
      "File \u001b[1;32mc:\\Users\\andre\\AppData\\Local\\Programs\\Python\\Python311\\Lib\\site-packages\\pandas\\core\\reshape\\merge.py:885\u001b[0m, in \u001b[0;36m_MergeOperation.get_result\u001b[1;34m(self, copy)\u001b[0m\n\u001b[0;32m    881\u001b[0m     \u001b[39mself\u001b[39m\u001b[39m.\u001b[39mleft, \u001b[39mself\u001b[39m\u001b[39m.\u001b[39mright \u001b[39m=\u001b[39m \u001b[39mself\u001b[39m\u001b[39m.\u001b[39m_indicator_pre_merge(\u001b[39mself\u001b[39m\u001b[39m.\u001b[39mleft, \u001b[39mself\u001b[39m\u001b[39m.\u001b[39mright)\n\u001b[0;32m    883\u001b[0m join_index, left_indexer, right_indexer \u001b[39m=\u001b[39m \u001b[39mself\u001b[39m\u001b[39m.\u001b[39m_get_join_info()\n\u001b[1;32m--> 885\u001b[0m result \u001b[39m=\u001b[39m \u001b[39mself\u001b[39;49m\u001b[39m.\u001b[39;49m_reindex_and_concat(\n\u001b[0;32m    886\u001b[0m     join_index, left_indexer, right_indexer, copy\u001b[39m=\u001b[39;49mcopy\n\u001b[0;32m    887\u001b[0m )\n\u001b[0;32m    888\u001b[0m result \u001b[39m=\u001b[39m result\u001b[39m.\u001b[39m__finalize__(\u001b[39mself\u001b[39m, method\u001b[39m=\u001b[39m\u001b[39mself\u001b[39m\u001b[39m.\u001b[39m_merge_type)\n\u001b[0;32m    890\u001b[0m \u001b[39mif\u001b[39;00m \u001b[39mself\u001b[39m\u001b[39m.\u001b[39mindicator:\n",
      "File \u001b[1;32mc:\\Users\\andre\\AppData\\Local\\Programs\\Python\\Python311\\Lib\\site-packages\\pandas\\core\\reshape\\merge.py:837\u001b[0m, in \u001b[0;36m_MergeOperation._reindex_and_concat\u001b[1;34m(self, join_index, left_indexer, right_indexer, copy)\u001b[0m\n\u001b[0;32m    834\u001b[0m left \u001b[39m=\u001b[39m \u001b[39mself\u001b[39m\u001b[39m.\u001b[39mleft[:]\n\u001b[0;32m    835\u001b[0m right \u001b[39m=\u001b[39m \u001b[39mself\u001b[39m\u001b[39m.\u001b[39mright[:]\n\u001b[1;32m--> 837\u001b[0m llabels, rlabels \u001b[39m=\u001b[39m _items_overlap_with_suffix(\n\u001b[0;32m    838\u001b[0m     \u001b[39mself\u001b[39;49m\u001b[39m.\u001b[39;49mleft\u001b[39m.\u001b[39;49m_info_axis, \u001b[39mself\u001b[39;49m\u001b[39m.\u001b[39;49mright\u001b[39m.\u001b[39;49m_info_axis, \u001b[39mself\u001b[39;49m\u001b[39m.\u001b[39;49msuffixes\n\u001b[0;32m    839\u001b[0m )\n\u001b[0;32m    841\u001b[0m \u001b[39mif\u001b[39;00m left_indexer \u001b[39mis\u001b[39;00m \u001b[39mnot\u001b[39;00m \u001b[39mNone\u001b[39;00m \u001b[39mand\u001b[39;00m \u001b[39mnot\u001b[39;00m is_range_indexer(left_indexer, \u001b[39mlen\u001b[39m(left)):\n\u001b[0;32m    842\u001b[0m     \u001b[39m# Pinning the index here (and in the right code just below) is not\u001b[39;00m\n\u001b[0;32m    843\u001b[0m     \u001b[39m#  necessary, but makes the `.take` more performant if we have e.g.\u001b[39;00m\n\u001b[0;32m    844\u001b[0m     \u001b[39m#  a MultiIndex for left.index.\u001b[39;00m\n\u001b[0;32m    845\u001b[0m     lmgr \u001b[39m=\u001b[39m left\u001b[39m.\u001b[39m_mgr\u001b[39m.\u001b[39mreindex_indexer(\n\u001b[0;32m    846\u001b[0m         join_index,\n\u001b[0;32m    847\u001b[0m         left_indexer,\n\u001b[1;32m   (...)\u001b[0m\n\u001b[0;32m    852\u001b[0m         use_na_proxy\u001b[39m=\u001b[39m\u001b[39mTrue\u001b[39;00m,\n\u001b[0;32m    853\u001b[0m     )\n",
      "File \u001b[1;32mc:\\Users\\andre\\AppData\\Local\\Programs\\Python\\Python311\\Lib\\site-packages\\pandas\\core\\reshape\\merge.py:2686\u001b[0m, in \u001b[0;36m_items_overlap_with_suffix\u001b[1;34m(left, right, suffixes)\u001b[0m\n\u001b[0;32m   2684\u001b[0m     dups\u001b[39m.\u001b[39mextend(rlabels[(rlabels\u001b[39m.\u001b[39mduplicated()) \u001b[39m&\u001b[39m (\u001b[39m~\u001b[39mright\u001b[39m.\u001b[39mduplicated())]\u001b[39m.\u001b[39mtolist())\n\u001b[0;32m   2685\u001b[0m \u001b[39mif\u001b[39;00m dups:\n\u001b[1;32m-> 2686\u001b[0m     \u001b[39mraise\u001b[39;00m MergeError(\n\u001b[0;32m   2687\u001b[0m         \u001b[39mf\u001b[39m\u001b[39m\"\u001b[39m\u001b[39mPassing \u001b[39m\u001b[39m'\u001b[39m\u001b[39msuffixes\u001b[39m\u001b[39m'\u001b[39m\u001b[39m which cause duplicate columns \u001b[39m\u001b[39m{\u001b[39;00m\u001b[39mset\u001b[39m(dups)\u001b[39m}\u001b[39;00m\u001b[39m is \u001b[39m\u001b[39m\"\u001b[39m\n\u001b[0;32m   2688\u001b[0m         \u001b[39mf\u001b[39m\u001b[39m\"\u001b[39m\u001b[39mnot allowed.\u001b[39m\u001b[39m\"\u001b[39m,\n\u001b[0;32m   2689\u001b[0m     )\n\u001b[0;32m   2691\u001b[0m \u001b[39mreturn\u001b[39;00m llabels, rlabels\n",
      "\u001b[1;31mMergeError\u001b[0m: Passing 'suffixes' which cause duplicate columns {'FEX_C_x'} is not allowed."
     ]
    }
   ],
   "source": [
    "datos_dane = pd.merge(datos_dane,datos_e,on='DIRECTORIO', how='left')"
   ]
  },
  {
   "cell_type": "code",
   "execution_count": 38,
   "metadata": {},
   "outputs": [
    {
     "data": {
      "text/plain": [
       "(87061, 214)"
      ]
     },
     "execution_count": 38,
     "metadata": {},
     "output_type": "execute_result"
    }
   ],
   "source": [
    "datos_dane.shape"
   ]
  },
  {
   "cell_type": "code",
   "execution_count": 39,
   "metadata": {},
   "outputs": [
    {
     "name": "stdout",
     "output_type": "stream",
     "text": [
      "<class 'pandas.core.frame.DataFrame'>\n",
      "RangeIndex: 87061 entries, 0 to 87060\n",
      "Columns: 214 entries, DIRECTORIO to FEX_C\n",
      "dtypes: float64(90), int64(111), object(13)\n",
      "memory usage: 142.1+ MB\n"
     ]
    }
   ],
   "source": [
    "\n",
    "datos_dane.info()"
   ]
  }
 ],
 "metadata": {
  "kernelspec": {
   "display_name": "Python 3",
   "language": "python",
   "name": "python3"
  },
  "language_info": {
   "codemirror_mode": {
    "name": "ipython",
    "version": 3
   },
   "file_extension": ".py",
   "mimetype": "text/x-python",
   "name": "python",
   "nbconvert_exporter": "python",
   "pygments_lexer": "ipython3",
   "version": "3.11.5"
  },
  "orig_nbformat": 4
 },
 "nbformat": 4,
 "nbformat_minor": 2
}
